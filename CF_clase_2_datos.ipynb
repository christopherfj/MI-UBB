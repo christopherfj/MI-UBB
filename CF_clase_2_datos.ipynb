{
  "nbformat": 4,
  "nbformat_minor": 0,
  "metadata": {
    "colab": {
      "provenance": [],
      "authorship_tag": "ABX9TyPXr8DvoK88duVBSBaGl3wP"
    },
    "kernelspec": {
      "name": "python3",
      "display_name": "Python 3"
    },
    "language_info": {
      "name": "python"
    }
  },
  "cells": [
    {
      "cell_type": "markdown",
      "source": [
        "# **Ejemplo guiado**"
      ],
      "metadata": {
        "id": "na5_7lIvyo70"
      }
    },
    {
      "cell_type": "markdown",
      "source": [
        "**Procesamiento y análisis de datos**\n",
        "[Fuente](https://statomics.github.io/PSLS/05_1_diabetes_sol.html)"
      ],
      "metadata": {
        "id": "dA2so7N0PTSE"
      }
    },
    {
      "cell_type": "markdown",
      "source": [
        "🎯 **1. Objetivos**\n",
        "\n",
        "En este ejercicio, revisaremos los fundamentos de la comprobación de hipótesis estadísticas utilizando Python.\n",
        "\n",
        "Habilidades que desarrollarás:\n",
        "\n",
        "✅ Evaluar los supuestos necesarios para aplicar una prueba estadística durante la etapa de exploración de datos.\n",
        "\n",
        "✅ Realizar una pruebas estadísticas en Python e interpretar los resultados."
      ],
      "metadata": {
        "id": "XaC78xIrP2Xd"
      }
    },
    {
      "cell_type": "markdown",
      "source": [
        "**❓ 2 Pregunta de investigación**\n",
        "\n",
        "Vamos a responder preguntas estadísticas utilizando pruebas de hipótesis en Python:\n",
        "\n",
        "🧪 **¿Existe una diferencia significativa en los niveles promedio de glucosa antes y después del consumo de azúcar?**\n",
        "\n",
        "→ Esta pregunta se responde con una prueba t pareada.\n"
      ],
      "metadata": {
        "id": "y-LsCS8CQwz8"
      }
    },
    {
      "cell_type": "markdown",
      "source": [
        "📊 **3. El conjunto de datos sobre diabetes**\n",
        "\n",
        "Este conjunto de datos proviene de un pequeño experimento clínico realizado con 8 pacientes que se sometieron a una prueba de tolerancia a la glucosa.\n",
        "\n",
        "🧪 **Descripción del experimento**:\n",
        "\n",
        "A los pacientes se les pidió ayunar durante 8 horas antes del test.\n",
        "\n",
        "Al ingresar al hospital, se midió su nivel basal de glucosa en sangre (before, en mmol/L).\n",
        "\n",
        "Luego, bebieron 250 ml de una solución con 100 gramos de glucosa.\n",
        "\n",
        "Dos horas después, se midió nuevamente el nivel de glucosa (after, en mmol/L).\n",
        "\n",
        "📋 **Variables en el conjunto de datos:**\n",
        "\n",
        "- `before`: concentración de glucosa en ayunas (mmol/L)\n",
        "- `after`: concentración de glucosa 2 horas después de consumir glucosa (mmol/L)\n",
        "- `patient`: identificador del paciente\n"
      ],
      "metadata": {
        "id": "cPmVWuH4QcRo"
      }
    },
    {
      "cell_type": "markdown",
      "source": [
        "🧭 **4. Exploración de datos**\n",
        "\n",
        "Antes de aplicar pruebas estadísticas, es fundamental explorar los datos y verificar los supuestos que permiten aplicar pruebas paramétricas como la t de Student. En esta sección, vamos a:"
      ],
      "metadata": {
        "id": "lrEhNzCcSJ1T"
      }
    },
    {
      "cell_type": "markdown",
      "source": [
        "Cargar las bibliotecas necesarias en Python.\n",
        "\n"
      ],
      "metadata": {
        "id": "EK9xmVCRSz38"
      }
    },
    {
      "cell_type": "code",
      "execution_count": null,
      "metadata": {
        "id": "W8mLjE9mJcxF"
      },
      "outputs": [],
      "source": [
        "import pandas as pd\n",
        "import numpy as np\n",
        "import matplotlib.pyplot as plt\n",
        "import seaborn as sns\n",
        "from scipy import stats\n",
        "import statsmodels.api as sm\n",
        "from scipy.stats import ttest_rel\n",
        "import numpy as np"
      ]
    },
    {
      "cell_type": "markdown",
      "source": [
        "Cargar el conjunto de datos desde un enlace web."
      ],
      "metadata": {
        "id": "fiq7sJJwS8BZ"
      }
    },
    {
      "cell_type": "code",
      "source": [
        "# Cargar el dataset desde el sitio web de PSLS\n",
        "url = \"https://raw.githubusercontent.com/statOmics/PSLSData/main/diabetes.txt\"\n",
        "data = pd.read_csv(url, sep=' ')"
      ],
      "metadata": {
        "id": "jGRbCuLGS83W"
      },
      "execution_count": null,
      "outputs": []
    },
    {
      "cell_type": "code",
      "source": [
        "# Ver las primeras filas\n",
        "data.head()"
      ],
      "metadata": {
        "colab": {
          "base_uri": "https://localhost:8080/",
          "height": 206
        },
        "id": "ooNRIt5HUJai",
        "outputId": "2aacf20c-048e-454d-f368-9c49a6cf03c0"
      },
      "execution_count": null,
      "outputs": [
        {
          "output_type": "execute_result",
          "data": {
            "text/plain": [
              "   before  after patient\n",
              "0    4.67   5.44    pat1\n",
              "1    4.97   5.78    pat2\n",
              "2    5.11   8.49    pat3\n",
              "3    5.17   6.71    pat4\n",
              "4    5.33  10.67    pat5"
            ],
            "text/html": [
              "\n",
              "  <div id=\"df-1cc5b03a-1a6b-4c35-b1a6-dfe298e02258\" class=\"colab-df-container\">\n",
              "    <div>\n",
              "<style scoped>\n",
              "    .dataframe tbody tr th:only-of-type {\n",
              "        vertical-align: middle;\n",
              "    }\n",
              "\n",
              "    .dataframe tbody tr th {\n",
              "        vertical-align: top;\n",
              "    }\n",
              "\n",
              "    .dataframe thead th {\n",
              "        text-align: right;\n",
              "    }\n",
              "</style>\n",
              "<table border=\"1\" class=\"dataframe\">\n",
              "  <thead>\n",
              "    <tr style=\"text-align: right;\">\n",
              "      <th></th>\n",
              "      <th>before</th>\n",
              "      <th>after</th>\n",
              "      <th>patient</th>\n",
              "    </tr>\n",
              "  </thead>\n",
              "  <tbody>\n",
              "    <tr>\n",
              "      <th>0</th>\n",
              "      <td>4.67</td>\n",
              "      <td>5.44</td>\n",
              "      <td>pat1</td>\n",
              "    </tr>\n",
              "    <tr>\n",
              "      <th>1</th>\n",
              "      <td>4.97</td>\n",
              "      <td>5.78</td>\n",
              "      <td>pat2</td>\n",
              "    </tr>\n",
              "    <tr>\n",
              "      <th>2</th>\n",
              "      <td>5.11</td>\n",
              "      <td>8.49</td>\n",
              "      <td>pat3</td>\n",
              "    </tr>\n",
              "    <tr>\n",
              "      <th>3</th>\n",
              "      <td>5.17</td>\n",
              "      <td>6.71</td>\n",
              "      <td>pat4</td>\n",
              "    </tr>\n",
              "    <tr>\n",
              "      <th>4</th>\n",
              "      <td>5.33</td>\n",
              "      <td>10.67</td>\n",
              "      <td>pat5</td>\n",
              "    </tr>\n",
              "  </tbody>\n",
              "</table>\n",
              "</div>\n",
              "    <div class=\"colab-df-buttons\">\n",
              "\n",
              "  <div class=\"colab-df-container\">\n",
              "    <button class=\"colab-df-convert\" onclick=\"convertToInteractive('df-1cc5b03a-1a6b-4c35-b1a6-dfe298e02258')\"\n",
              "            title=\"Convert this dataframe to an interactive table.\"\n",
              "            style=\"display:none;\">\n",
              "\n",
              "  <svg xmlns=\"http://www.w3.org/2000/svg\" height=\"24px\" viewBox=\"0 -960 960 960\">\n",
              "    <path d=\"M120-120v-720h720v720H120Zm60-500h600v-160H180v160Zm220 220h160v-160H400v160Zm0 220h160v-160H400v160ZM180-400h160v-160H180v160Zm440 0h160v-160H620v160ZM180-180h160v-160H180v160Zm440 0h160v-160H620v160Z\"/>\n",
              "  </svg>\n",
              "    </button>\n",
              "\n",
              "  <style>\n",
              "    .colab-df-container {\n",
              "      display:flex;\n",
              "      gap: 12px;\n",
              "    }\n",
              "\n",
              "    .colab-df-convert {\n",
              "      background-color: #E8F0FE;\n",
              "      border: none;\n",
              "      border-radius: 50%;\n",
              "      cursor: pointer;\n",
              "      display: none;\n",
              "      fill: #1967D2;\n",
              "      height: 32px;\n",
              "      padding: 0 0 0 0;\n",
              "      width: 32px;\n",
              "    }\n",
              "\n",
              "    .colab-df-convert:hover {\n",
              "      background-color: #E2EBFA;\n",
              "      box-shadow: 0px 1px 2px rgba(60, 64, 67, 0.3), 0px 1px 3px 1px rgba(60, 64, 67, 0.15);\n",
              "      fill: #174EA6;\n",
              "    }\n",
              "\n",
              "    .colab-df-buttons div {\n",
              "      margin-bottom: 4px;\n",
              "    }\n",
              "\n",
              "    [theme=dark] .colab-df-convert {\n",
              "      background-color: #3B4455;\n",
              "      fill: #D2E3FC;\n",
              "    }\n",
              "\n",
              "    [theme=dark] .colab-df-convert:hover {\n",
              "      background-color: #434B5C;\n",
              "      box-shadow: 0px 1px 3px 1px rgba(0, 0, 0, 0.15);\n",
              "      filter: drop-shadow(0px 1px 2px rgba(0, 0, 0, 0.3));\n",
              "      fill: #FFFFFF;\n",
              "    }\n",
              "  </style>\n",
              "\n",
              "    <script>\n",
              "      const buttonEl =\n",
              "        document.querySelector('#df-1cc5b03a-1a6b-4c35-b1a6-dfe298e02258 button.colab-df-convert');\n",
              "      buttonEl.style.display =\n",
              "        google.colab.kernel.accessAllowed ? 'block' : 'none';\n",
              "\n",
              "      async function convertToInteractive(key) {\n",
              "        const element = document.querySelector('#df-1cc5b03a-1a6b-4c35-b1a6-dfe298e02258');\n",
              "        const dataTable =\n",
              "          await google.colab.kernel.invokeFunction('convertToInteractive',\n",
              "                                                    [key], {});\n",
              "        if (!dataTable) return;\n",
              "\n",
              "        const docLinkHtml = 'Like what you see? Visit the ' +\n",
              "          '<a target=\"_blank\" href=https://colab.research.google.com/notebooks/data_table.ipynb>data table notebook</a>'\n",
              "          + ' to learn more about interactive tables.';\n",
              "        element.innerHTML = '';\n",
              "        dataTable['output_type'] = 'display_data';\n",
              "        await google.colab.output.renderOutput(dataTable, element);\n",
              "        const docLink = document.createElement('div');\n",
              "        docLink.innerHTML = docLinkHtml;\n",
              "        element.appendChild(docLink);\n",
              "      }\n",
              "    </script>\n",
              "  </div>\n",
              "\n",
              "\n",
              "    <div id=\"df-44dde6f1-6be2-4676-8d80-481b7474e196\">\n",
              "      <button class=\"colab-df-quickchart\" onclick=\"quickchart('df-44dde6f1-6be2-4676-8d80-481b7474e196')\"\n",
              "                title=\"Suggest charts\"\n",
              "                style=\"display:none;\">\n",
              "\n",
              "<svg xmlns=\"http://www.w3.org/2000/svg\" height=\"24px\"viewBox=\"0 0 24 24\"\n",
              "     width=\"24px\">\n",
              "    <g>\n",
              "        <path d=\"M19 3H5c-1.1 0-2 .9-2 2v14c0 1.1.9 2 2 2h14c1.1 0 2-.9 2-2V5c0-1.1-.9-2-2-2zM9 17H7v-7h2v7zm4 0h-2V7h2v10zm4 0h-2v-4h2v4z\"/>\n",
              "    </g>\n",
              "</svg>\n",
              "      </button>\n",
              "\n",
              "<style>\n",
              "  .colab-df-quickchart {\n",
              "      --bg-color: #E8F0FE;\n",
              "      --fill-color: #1967D2;\n",
              "      --hover-bg-color: #E2EBFA;\n",
              "      --hover-fill-color: #174EA6;\n",
              "      --disabled-fill-color: #AAA;\n",
              "      --disabled-bg-color: #DDD;\n",
              "  }\n",
              "\n",
              "  [theme=dark] .colab-df-quickchart {\n",
              "      --bg-color: #3B4455;\n",
              "      --fill-color: #D2E3FC;\n",
              "      --hover-bg-color: #434B5C;\n",
              "      --hover-fill-color: #FFFFFF;\n",
              "      --disabled-bg-color: #3B4455;\n",
              "      --disabled-fill-color: #666;\n",
              "  }\n",
              "\n",
              "  .colab-df-quickchart {\n",
              "    background-color: var(--bg-color);\n",
              "    border: none;\n",
              "    border-radius: 50%;\n",
              "    cursor: pointer;\n",
              "    display: none;\n",
              "    fill: var(--fill-color);\n",
              "    height: 32px;\n",
              "    padding: 0;\n",
              "    width: 32px;\n",
              "  }\n",
              "\n",
              "  .colab-df-quickchart:hover {\n",
              "    background-color: var(--hover-bg-color);\n",
              "    box-shadow: 0 1px 2px rgba(60, 64, 67, 0.3), 0 1px 3px 1px rgba(60, 64, 67, 0.15);\n",
              "    fill: var(--button-hover-fill-color);\n",
              "  }\n",
              "\n",
              "  .colab-df-quickchart-complete:disabled,\n",
              "  .colab-df-quickchart-complete:disabled:hover {\n",
              "    background-color: var(--disabled-bg-color);\n",
              "    fill: var(--disabled-fill-color);\n",
              "    box-shadow: none;\n",
              "  }\n",
              "\n",
              "  .colab-df-spinner {\n",
              "    border: 2px solid var(--fill-color);\n",
              "    border-color: transparent;\n",
              "    border-bottom-color: var(--fill-color);\n",
              "    animation:\n",
              "      spin 1s steps(1) infinite;\n",
              "  }\n",
              "\n",
              "  @keyframes spin {\n",
              "    0% {\n",
              "      border-color: transparent;\n",
              "      border-bottom-color: var(--fill-color);\n",
              "      border-left-color: var(--fill-color);\n",
              "    }\n",
              "    20% {\n",
              "      border-color: transparent;\n",
              "      border-left-color: var(--fill-color);\n",
              "      border-top-color: var(--fill-color);\n",
              "    }\n",
              "    30% {\n",
              "      border-color: transparent;\n",
              "      border-left-color: var(--fill-color);\n",
              "      border-top-color: var(--fill-color);\n",
              "      border-right-color: var(--fill-color);\n",
              "    }\n",
              "    40% {\n",
              "      border-color: transparent;\n",
              "      border-right-color: var(--fill-color);\n",
              "      border-top-color: var(--fill-color);\n",
              "    }\n",
              "    60% {\n",
              "      border-color: transparent;\n",
              "      border-right-color: var(--fill-color);\n",
              "    }\n",
              "    80% {\n",
              "      border-color: transparent;\n",
              "      border-right-color: var(--fill-color);\n",
              "      border-bottom-color: var(--fill-color);\n",
              "    }\n",
              "    90% {\n",
              "      border-color: transparent;\n",
              "      border-bottom-color: var(--fill-color);\n",
              "    }\n",
              "  }\n",
              "</style>\n",
              "\n",
              "      <script>\n",
              "        async function quickchart(key) {\n",
              "          const quickchartButtonEl =\n",
              "            document.querySelector('#' + key + ' button');\n",
              "          quickchartButtonEl.disabled = true;  // To prevent multiple clicks.\n",
              "          quickchartButtonEl.classList.add('colab-df-spinner');\n",
              "          try {\n",
              "            const charts = await google.colab.kernel.invokeFunction(\n",
              "                'suggestCharts', [key], {});\n",
              "          } catch (error) {\n",
              "            console.error('Error during call to suggestCharts:', error);\n",
              "          }\n",
              "          quickchartButtonEl.classList.remove('colab-df-spinner');\n",
              "          quickchartButtonEl.classList.add('colab-df-quickchart-complete');\n",
              "        }\n",
              "        (() => {\n",
              "          let quickchartButtonEl =\n",
              "            document.querySelector('#df-44dde6f1-6be2-4676-8d80-481b7474e196 button');\n",
              "          quickchartButtonEl.style.display =\n",
              "            google.colab.kernel.accessAllowed ? 'block' : 'none';\n",
              "        })();\n",
              "      </script>\n",
              "    </div>\n",
              "\n",
              "    </div>\n",
              "  </div>\n"
            ],
            "application/vnd.google.colaboratory.intrinsic+json": {
              "type": "dataframe",
              "variable_name": "data",
              "summary": "{\n  \"name\": \"data\",\n  \"rows\": 8,\n  \"fields\": [\n    {\n      \"column\": \"before\",\n      \"properties\": {\n        \"dtype\": \"number\",\n        \"std\": 0.8375549022516162,\n        \"min\": 4.67,\n        \"max\": 7.0,\n        \"num_unique_values\": 8,\n        \"samples\": [\n          4.97,\n          6.22,\n          4.67\n        ],\n        \"semantic_type\": \"\",\n        \"description\": \"\"\n      }\n    },\n    {\n      \"column\": \"after\",\n      \"properties\": {\n        \"dtype\": \"number\",\n        \"std\": 2.1966207813691594,\n        \"min\": 5.44,\n        \"max\": 10.67,\n        \"num_unique_values\": 8,\n        \"samples\": [\n          5.78,\n          5.67,\n          5.44\n        ],\n        \"semantic_type\": \"\",\n        \"description\": \"\"\n      }\n    },\n    {\n      \"column\": \"patient\",\n      \"properties\": {\n        \"dtype\": \"string\",\n        \"num_unique_values\": 8,\n        \"samples\": [\n          \"pat2\",\n          \"pat6\",\n          \"pat1\"\n        ],\n        \"semantic_type\": \"\",\n        \"description\": \"\"\n      }\n    }\n  ]\n}"
            }
          },
          "metadata": {},
          "execution_count": 3
        }
      ]
    },
    {
      "cell_type": "markdown",
      "source": [
        "Visualizar las distribuciones de los niveles de glucosa antes y después de la ingesta de azúcar."
      ],
      "metadata": {
        "id": "u5hmZqLUTEiQ"
      }
    },
    {
      "cell_type": "code",
      "source": [
        "# Reorganizar los datos para graficarlos fácilmente con Seaborn\n",
        "data_melted = pd.melt(data, id_vars='patient', value_vars=['before', 'after'],\n",
        "                      var_name='Momento', value_name='Glucosa')\n",
        "\n",
        "fig = plt.figure(figsize=(8, 5))\n",
        "sns.boxplot(data=data_melted, x='Momento', y='Glucosa', hue='Momento', palette='pastel', legend=False)\n",
        "plt.title('Distribución de glucosa antes y después del tratamiento')\n",
        "plt.savefig(\"glucosa_boxplot.pdf\")\n",
        "plt.show()"
      ],
      "metadata": {
        "colab": {
          "base_uri": "https://localhost:8080/",
          "height": 488
        },
        "id": "DYLaFS5KTJ3Q",
        "outputId": "587ec519-fd8e-446e-e486-59c71a3c052e"
      },
      "execution_count": null,
      "outputs": [
        {
          "output_type": "display_data",
          "data": {
            "text/plain": [
              "<Figure size 800x500 with 1 Axes>"
            ],
            "image/png": "[encoded data removed]"
          },
          "metadata": {}
        }
      ]
    },
    {
      "cell_type": "markdown",
      "source": [
        "🔎 **5. Verificación de supuestos para la prueba t pareada**\n",
        "\n",
        "Antes de aplicar la prueba t pareada, debemos comprobar que las diferencias entre las mediciones `after` y `before` sigan una distribución normal. Esto es un supuesto clave para que la prueba t sea válida."
      ],
      "metadata": {
        "id": "1IW9PeR0UvgV"
      }
    },
    {
      "cell_type": "code",
      "source": [
        "#Calculamos la diferencia por paciente entre el nivel de glucosa después y antes:\n",
        "data['diff'] = data['after'] - data['before']\n",
        "data[['patient', 'diff']]"
      ],
      "metadata": {
        "colab": {
          "base_uri": "https://localhost:8080/",
          "height": 300
        },
        "id": "xQeavH61U-Tp",
        "outputId": "c2660f48-aee1-460e-81c6-71c94763c6b8"
      },
      "execution_count": null,
      "outputs": [
        {
          "output_type": "execute_result",
          "data": {
            "text/plain": [
              "  patient  diff\n",
              "0    pat1  0.77\n",
              "1    pat2  0.81\n",
              "2    pat3  3.38\n",
              "3    pat4  1.54\n",
              "4    pat5  5.34\n",
              "5    pat6 -0.55\n",
              "6    pat7  3.61\n",
              "7    pat8  2.89"
            ],
            "text/html": [
              "\n",
              "  <div id=\"df-8a8f79e1-0e6c-4526-9864-90c11ce2bfc9\" class=\"colab-df-container\">\n",
              "    <div>\n",
              "<style scoped>\n",
              "    .dataframe tbody tr th:only-of-type {\n",
              "        vertical-align: middle;\n",
              "    }\n",
              "\n",
              "    .dataframe tbody tr th {\n",
              "        vertical-align: top;\n",
              "    }\n",
              "\n",
              "    .dataframe thead th {\n",
              "        text-align: right;\n",
              "    }\n",
              "</style>\n",
              "<table border=\"1\" class=\"dataframe\">\n",
              "  <thead>\n",
              "    <tr style=\"text-align: right;\">\n",
              "      <th></th>\n",
              "      <th>patient</th>\n",
              "      <th>diff</th>\n",
              "    </tr>\n",
              "  </thead>\n",
              "  <tbody>\n",
              "    <tr>\n",
              "      <th>0</th>\n",
              "      <td>pat1</td>\n",
              "      <td>0.77</td>\n",
              "    </tr>\n",
              "    <tr>\n",
              "      <th>1</th>\n",
              "      <td>pat2</td>\n",
              "      <td>0.81</td>\n",
              "    </tr>\n",
              "    <tr>\n",
              "      <th>2</th>\n",
              "      <td>pat3</td>\n",
              "      <td>3.38</td>\n",
              "    </tr>\n",
              "    <tr>\n",
              "      <th>3</th>\n",
              "      <td>pat4</td>\n",
              "      <td>1.54</td>\n",
              "    </tr>\n",
              "    <tr>\n",
              "      <th>4</th>\n",
              "      <td>pat5</td>\n",
              "      <td>5.34</td>\n",
              "    </tr>\n",
              "    <tr>\n",
              "      <th>5</th>\n",
              "      <td>pat6</td>\n",
              "      <td>-0.55</td>\n",
              "    </tr>\n",
              "    <tr>\n",
              "      <th>6</th>\n",
              "      <td>pat7</td>\n",
              "      <td>3.61</td>\n",
              "    </tr>\n",
              "    <tr>\n",
              "      <th>7</th>\n",
              "      <td>pat8</td>\n",
              "      <td>2.89</td>\n",
              "    </tr>\n",
              "  </tbody>\n",
              "</table>\n",
              "</div>\n",
              "    <div class=\"colab-df-buttons\">\n",
              "\n",
              "  <div class=\"colab-df-container\">\n",
              "    <button class=\"colab-df-convert\" onclick=\"convertToInteractive('df-8a8f79e1-0e6c-4526-9864-90c11ce2bfc9')\"\n",
              "            title=\"Convert this dataframe to an interactive table.\"\n",
              "            style=\"display:none;\">\n",
              "\n",
              "  <svg xmlns=\"http://www.w3.org/2000/svg\" height=\"24px\" viewBox=\"0 -960 960 960\">\n",
              "    <path d=\"M120-120v-720h720v720H120Zm60-500h600v-160H180v160Zm220 220h160v-160H400v160Zm0 220h160v-160H400v160ZM180-400h160v-160H180v160Zm440 0h160v-160H620v160ZM180-180h160v-160H180v160Zm440 0h160v-160H620v160Z\"/>\n",
              "  </svg>\n",
              "    </button>\n",
              "\n",
              "  <style>\n",
              "    .colab-df-container {\n",
              "      display:flex;\n",
              "      gap: 12px;\n",
              "    }\n",
              "\n",
              "    .colab-df-convert {\n",
              "      background-color: #E8F0FE;\n",
              "      border: none;\n",
              "      border-radius: 50%;\n",
              "      cursor: pointer;\n",
              "      display: none;\n",
              "      fill: #1967D2;\n",
              "      height: 32px;\n",
              "      padding: 0 0 0 0;\n",
              "      width: 32px;\n",
              "    }\n",
              "\n",
              "    .colab-df-convert:hover {\n",
              "      background-color: #E2EBFA;\n",
              "      box-shadow: 0px 1px 2px rgba(60, 64, 67, 0.3), 0px 1px 3px 1px rgba(60, 64, 67, 0.15);\n",
              "      fill: #174EA6;\n",
              "    }\n",
              "\n",
              "    .colab-df-buttons div {\n",
              "      margin-bottom: 4px;\n",
              "    }\n",
              "\n",
              "    [theme=dark] .colab-df-convert {\n",
              "      background-color: #3B4455;\n",
              "      fill: #D2E3FC;\n",
              "    }\n",
              "\n",
              "    [theme=dark] .colab-df-convert:hover {\n",
              "      background-color: #434B5C;\n",
              "      box-shadow: 0px 1px 3px 1px rgba(0, 0, 0, 0.15);\n",
              "      filter: drop-shadow(0px 1px 2px rgba(0, 0, 0, 0.3));\n",
              "      fill: #FFFFFF;\n",
              "    }\n",
              "  </style>\n",
              "\n",
              "    <script>\n",
              "      const buttonEl =\n",
              "        document.querySelector('#df-8a8f79e1-0e6c-4526-9864-90c11ce2bfc9 button.colab-df-convert');\n",
              "      buttonEl.style.display =\n",
              "        google.colab.kernel.accessAllowed ? 'block' : 'none';\n",
              "\n",
              "      async function convertToInteractive(key) {\n",
              "        const element = document.querySelector('#df-8a8f79e1-0e6c-4526-9864-90c11ce2bfc9');\n",
              "        const dataTable =\n",
              "          await google.colab.kernel.invokeFunction('convertToInteractive',\n",
              "                                                    [key], {});\n",
              "        if (!dataTable) return;\n",
              "\n",
              "        const docLinkHtml = 'Like what you see? Visit the ' +\n",
              "          '<a target=\"_blank\" href=https://colab.research.google.com/notebooks/data_table.ipynb>data table notebook</a>'\n",
              "          + ' to learn more about interactive tables.';\n",
              "        element.innerHTML = '';\n",
              "        dataTable['output_type'] = 'display_data';\n",
              "        await google.colab.output.renderOutput(dataTable, element);\n",
              "        const docLink = document.createElement('div');\n",
              "        docLink.innerHTML = docLinkHtml;\n",
              "        element.appendChild(docLink);\n",
              "      }\n",
              "    </script>\n",
              "  </div>\n",
              "\n",
              "\n",
              "    <div id=\"df-4d461cc7-3027-4684-9265-ef5a7e6a9815\">\n",
              "      <button class=\"colab-df-quickchart\" onclick=\"quickchart('df-4d461cc7-3027-4684-9265-ef5a7e6a9815')\"\n",
              "                title=\"Suggest charts\"\n",
              "                style=\"display:none;\">\n",
              "\n",
              "<svg xmlns=\"http://www.w3.org/2000/svg\" height=\"24px\"viewBox=\"0 0 24 24\"\n",
              "     width=\"24px\">\n",
              "    <g>\n",
              "        <path d=\"M19 3H5c-1.1 0-2 .9-2 2v14c0 1.1.9 2 2 2h14c1.1 0 2-.9 2-2V5c0-1.1-.9-2-2-2zM9 17H7v-7h2v7zm4 0h-2V7h2v10zm4 0h-2v-4h2v4z\"/>\n",
              "    </g>\n",
              "</svg>\n",
              "      </button>\n",
              "\n",
              "<style>\n",
              "  .colab-df-quickchart {\n",
              "      --bg-color: #E8F0FE;\n",
              "      --fill-color: #1967D2;\n",
              "      --hover-bg-color: #E2EBFA;\n",
              "      --hover-fill-color: #174EA6;\n",
              "      --disabled-fill-color: #AAA;\n",
              "      --disabled-bg-color: #DDD;\n",
              "  }\n",
              "\n",
              "  [theme=dark] .colab-df-quickchart {\n",
              "      --bg-color: #3B4455;\n",
              "      --fill-color: #D2E3FC;\n",
              "      --hover-bg-color: #434B5C;\n",
              "      --hover-fill-color: #FFFFFF;\n",
              "      --disabled-bg-color: #3B4455;\n",
              "      --disabled-fill-color: #666;\n",
              "  }\n",
              "\n",
              "  .colab-df-quickchart {\n",
              "    background-color: var(--bg-color);\n",
              "    border: none;\n",
              "    border-radius: 50%;\n",
              "    cursor: pointer;\n",
              "    display: none;\n",
              "    fill: var(--fill-color);\n",
              "    height: 32px;\n",
              "    padding: 0;\n",
              "    width: 32px;\n",
              "  }\n",
              "\n",
              "  .colab-df-quickchart:hover {\n",
              "    background-color: var(--hover-bg-color);\n",
              "    box-shadow: 0 1px 2px rgba(60, 64, 67, 0.3), 0 1px 3px 1px rgba(60, 64, 67, 0.15);\n",
              "    fill: var(--button-hover-fill-color);\n",
              "  }\n",
              "\n",
              "  .colab-df-quickchart-complete:disabled,\n",
              "  .colab-df-quickchart-complete:disabled:hover {\n",
              "    background-color: var(--disabled-bg-color);\n",
              "    fill: var(--disabled-fill-color);\n",
              "    box-shadow: none;\n",
              "  }\n",
              "\n",
              "  .colab-df-spinner {\n",
              "    border: 2px solid var(--fill-color);\n",
              "    border-color: transparent;\n",
              "    border-bottom-color: var(--fill-color);\n",
              "    animation:\n",
              "      spin 1s steps(1) infinite;\n",
              "  }\n",
              "\n",
              "  @keyframes spin {\n",
              "    0% {\n",
              "      border-color: transparent;\n",
              "      border-bottom-color: var(--fill-color);\n",
              "      border-left-color: var(--fill-color);\n",
              "    }\n",
              "    20% {\n",
              "      border-color: transparent;\n",
              "      border-left-color: var(--fill-color);\n",
              "      border-top-color: var(--fill-color);\n",
              "    }\n",
              "    30% {\n",
              "      border-color: transparent;\n",
              "      border-left-color: var(--fill-color);\n",
              "      border-top-color: var(--fill-color);\n",
              "      border-right-color: var(--fill-color);\n",
              "    }\n",
              "    40% {\n",
              "      border-color: transparent;\n",
              "      border-right-color: var(--fill-color);\n",
              "      border-top-color: var(--fill-color);\n",
              "    }\n",
              "    60% {\n",
              "      border-color: transparent;\n",
              "      border-right-color: var(--fill-color);\n",
              "    }\n",
              "    80% {\n",
              "      border-color: transparent;\n",
              "      border-right-color: var(--fill-color);\n",
              "      border-bottom-color: var(--fill-color);\n",
              "    }\n",
              "    90% {\n",
              "      border-color: transparent;\n",
              "      border-bottom-color: var(--fill-color);\n",
              "    }\n",
              "  }\n",
              "</style>\n",
              "\n",
              "      <script>\n",
              "        async function quickchart(key) {\n",
              "          const quickchartButtonEl =\n",
              "            document.querySelector('#' + key + ' button');\n",
              "          quickchartButtonEl.disabled = true;  // To prevent multiple clicks.\n",
              "          quickchartButtonEl.classList.add('colab-df-spinner');\n",
              "          try {\n",
              "            const charts = await google.colab.kernel.invokeFunction(\n",
              "                'suggestCharts', [key], {});\n",
              "          } catch (error) {\n",
              "            console.error('Error during call to suggestCharts:', error);\n",
              "          }\n",
              "          quickchartButtonEl.classList.remove('colab-df-spinner');\n",
              "          quickchartButtonEl.classList.add('colab-df-quickchart-complete');\n",
              "        }\n",
              "        (() => {\n",
              "          let quickchartButtonEl =\n",
              "            document.querySelector('#df-4d461cc7-3027-4684-9265-ef5a7e6a9815 button');\n",
              "          quickchartButtonEl.style.display =\n",
              "            google.colab.kernel.accessAllowed ? 'block' : 'none';\n",
              "        })();\n",
              "      </script>\n",
              "    </div>\n",
              "\n",
              "    </div>\n",
              "  </div>\n"
            ],
            "application/vnd.google.colaboratory.intrinsic+json": {
              "type": "dataframe",
              "summary": "{\n  \"name\": \"data[['patient', 'diff']]\",\n  \"rows\": 8,\n  \"fields\": [\n    {\n      \"column\": \"patient\",\n      \"properties\": {\n        \"dtype\": \"string\",\n        \"num_unique_values\": 8,\n        \"samples\": [\n          \"pat2\",\n          \"pat6\",\n          \"pat1\"\n        ],\n        \"semantic_type\": \"\",\n        \"description\": \"\"\n      }\n    },\n    {\n      \"column\": \"diff\",\n      \"properties\": {\n        \"dtype\": \"number\",\n        \"std\": 1.915604622939862,\n        \"min\": -0.5499999999999998,\n        \"max\": 5.34,\n        \"num_unique_values\": 8,\n        \"samples\": [\n          0.8100000000000005,\n          -0.5499999999999998,\n          0.7700000000000005\n        ],\n        \"semantic_type\": \"\",\n        \"description\": \"\"\n      }\n    }\n  ]\n}"
            }
          },
          "metadata": {},
          "execution_count": 5
        }
      ]
    },
    {
      "cell_type": "code",
      "source": [
        "#Gráfico Q-Q (Quantile-Quantile plot)\n",
        "fig = plt.figure(figsize=(6,6))\n",
        "sm.qqplot(data['diff'], line='45', fit=True)\n",
        "plt.title('Q-Q plot de las diferencias (after - before)')\n",
        "plt.savefig(\"diferencias_qqplot.pdf\")\n",
        "plt.show()"
      ],
      "metadata": {
        "colab": {
          "base_uri": "https://localhost:8080/",
          "height": 489
        },
        "id": "_UZB7WLKW-ua",
        "outputId": "46875b4b-db9c-4ac2-bd62-d0f1c265893b"
      },
      "execution_count": null,
      "outputs": [
        {
          "output_type": "display_data",
          "data": {
            "text/plain": [
              "<Figure size 600x600 with 0 Axes>"
            ]
          },
          "metadata": {}
        },
        {
          "output_type": "display_data",
          "data": {
            "text/plain": [
              "<Figure size 640x480 with 1 Axes>"
            ],
            "image/png": "[encoded data removed]"
          },
          "metadata": {}
        }
      ]
    },
    {
      "cell_type": "markdown",
      "source": [
        "📏 **Evaluación de normalidad: prueba de Shapiro-Wilk**\n",
        "\n",
        "Antes de aplicar una prueba t pareada, debemos comprobar si la variable de interés (la diferencia entre los niveles de glucosa después y antes) se distribuye normalmente. Para esto, usamos la prueba de Shapiro-Wilk.\n",
        "\n",
        "**Hipótesis estadísticas:**\n",
        "\n",
        "📌 H₀ (hipótesis nula): la diferencia (after - before) sigue una distribución normal.\n",
        "\n",
        "📌 H₁ (hipótesis alternativa): la diferencia no sigue una distribución normal.\n",
        "\n",
        "➡️ Si el p-valor de la prueba es mayor que 0.05, no se rechaza H₀, y podemos asumir normalidad.\n",
        "\n",
        "➡️ Si el p-valor es menor o igual a 0.05, rechazamos H₀, lo que sugiere que los datos no se distribuyen normalmente."
      ],
      "metadata": {
        "id": "xLdG_YOYvKd4"
      }
    },
    {
      "cell_type": "code",
      "source": [
        "#Prueba de normalidad\n",
        "stat, p_value = stats.shapiro(data['diff'])\n",
        "print(f'Shapiro-Wilk test: estadístico={stat:.4f}, p-valor={p_value:.4f}')\n",
        "\n",
        "if p_value > 0.05:\n",
        "    print(\"No se rechaza la hipótesis nula: la distribución es aproximadamente normal.\")\n",
        "else:\n",
        "    print(\"Se rechaza la hipótesis nula: la distribución no es normal.\")"
      ],
      "metadata": {
        "colab": {
          "base_uri": "https://localhost:8080/"
        },
        "id": "iQ1m07cMuyks",
        "outputId": "408ff8d6-bc49-409e-fdb9-d30375095022"
      },
      "execution_count": null,
      "outputs": [
        {
          "output_type": "stream",
          "name": "stdout",
          "text": [
            "Shapiro-Wilk test: estadístico=0.9688, p-valor=0.8880\n",
            "No se rechaza la hipótesis nula: la distribución es aproximadamente normal.\n"
          ]
        }
      ]
    },
    {
      "cell_type": "markdown",
      "source": [
        "🎯 **6 Diferencia entre before y after**\n",
        "\n",
        "Esta es una comparación pareada, porque las mediciones provienen de los mismos pacientes antes y después del tratamiento.\n",
        "\n",
        "Hipótesis para la prueba t pareada:\n",
        "\n",
        "📌 H₀: la media de las diferencias (after - before) es igual a 0.\n",
        "\n",
        "📌 H₁: la media de las diferencias es distinta de 0."
      ],
      "metadata": {
        "id": "wB908m9Yvok_"
      }
    },
    {
      "cell_type": "code",
      "source": [
        "stat_t, pval_t = ttest_rel(data['after'], data['before'])\n",
        "print(f\"t pareada: estadístico = {stat_t:.4f}, p-valor = {pval_t:.4f}\")\n",
        "\n",
        "if pval_t < 0.05:\n",
        "    print(\"Se rechaza H₀: hay evidencia de una diferencia significativa entre antes y después.\")\n",
        "else:\n",
        "    print(\"No se rechaza H₀: no hay evidencia suficiente de una diferencia.\")"
      ],
      "metadata": {
        "colab": {
          "base_uri": "https://localhost:8080/"
        },
        "id": "PiatDOB4vySm",
        "outputId": "78271487-83b0-47bf-d6eb-da80fc8e3ae9"
      },
      "execution_count": null,
      "outputs": [
        {
          "output_type": "stream",
          "name": "stdout",
          "text": [
            "t pareada: estadístico = 3.2834, p-valor = 0.0134\n",
            "Se rechaza H₀: hay evidencia de una diferencia significativa entre antes y después.\n"
          ]
        }
      ]
    },
    {
      "cell_type": "code",
      "source": [
        "# Estadísticas básicas\n",
        "diff = data['diff']\n",
        "mean_diff = np.mean(diff)\n",
        "sem_diff = stats.sem(diff)  # error estándar de la media\n",
        "ci = stats.t.interval(0.95, df=len(diff)-1, loc=mean_diff, scale=sem_diff)\n",
        "\n",
        "print(f\"Media de las diferencias: {mean_diff:.3f} mmol/L\")\n",
        "print(f\"Intervalo de confianza 95%: ({ci[0]:.3f}, {ci[1]:.3f}) mmol/L\")"
      ],
      "metadata": {
        "colab": {
          "base_uri": "https://localhost:8080/"
        },
        "id": "h2gQh18jw9Iu",
        "outputId": "56260b23-79f9-4f5d-fb2f-615eaa969d89"
      },
      "execution_count": null,
      "outputs": [
        {
          "output_type": "stream",
          "name": "stdout",
          "text": [
            "Media de las diferencias: 2.224 mmol/L\n",
            "Intervalo de confianza 95%: (0.622, 3.825) mmol/L\n"
          ]
        }
      ]
    },
    {
      "cell_type": "markdown",
      "source": [
        "✅ **Conclusión**\n",
        "\n",
        "✔️ En promedio, se observa un aumento significativo en el nivel de glucosa en sangre tras administrar 100g de azúcar a los pacientes (p = 0.01).\n",
        "Los niveles de glucosa dos horas después de la ingesta son, en promedio, 2.2 mmol/L más altos que después de 8 horas de ayuno, con un intervalo de confianza del 95% de [0.6, 3.8] mmol/L.\n",
        "\n",
        "✔️ Este resultado sugiere que el tratamiento produce un efecto fisiológico evidente y medible sobre la concentración de glucosa en sangre."
      ],
      "metadata": {
        "id": "Klkgp90fxlOE"
      }
    },
    {
      "cell_type": "markdown",
      "source": [
        "# **Ejemplos prácticos**\n"
      ],
      "metadata": {
        "id": "Q7Io7HZnywqL"
      }
    },
    {
      "cell_type": "markdown",
      "source": [
        "⚡ **Ingeniería Eléctrica: Análisis de Consumo Energético en Hogares**\n",
        "\n",
        "🗂️ **Dataset**\n",
        "\n",
        "Household Electric Power Consumption\n",
        "\n",
        "🔍 **Pregunta de Investigación**\n",
        "\n",
        "¿Existe una diferencia significativa en la potencia activa entre los días de semana y los fines de semana en los hogares?\n",
        "\n",
        "🧪 **Hipótesis**\n",
        "\n",
        "📌 H₀: No hay diferencia en el consumo promedio de energía activa entre días de semana y fines de semana.\n",
        "\n",
        "📌 H₁: Hay una diferencia significativa en el consumo promedio de energía activa entre días de semana y fines de semana."
      ],
      "metadata": {
        "id": "ZMyjyEsyBzFA"
      }
    },
    {
      "cell_type": "code",
      "source": [
        "# Cargar datos sin parsear fecha y hora juntas\n",
        "url = 'https://media.githubusercontent.com/media/dmkn96/Power_consumption/refs/heads/main/Dataset/household_power_consumption.txt'\n",
        "data = pd.read_csv(url, sep=';', na_values='?', low_memory=False)\n",
        "\n",
        "# Combinar columnas Date y Time en Datetime, especificando dayfirst=True\n",
        "data['Datetime'] = pd.to_datetime(data['Date'] + ' ' + data['Time'], dayfirst=True)\n",
        "\n",
        "# Seleccionar columnas relevantes y limpiar\n",
        "data = data[['Datetime', 'Global_active_power']].dropna()\n",
        "data['Global_active_power'] = data['Global_active_power'].astype(float)\n",
        "\n",
        "# Crear variables para día de la semana y tipo de día\n",
        "data['Day'] = data['Datetime'].dt.day_name()\n",
        "data['Weekday'] = data['Datetime'].dt.weekday\n",
        "data['Day_Type'] = data['Weekday'].apply(lambda x: 'Weekend' if x >= 5 else 'Weekday')\n",
        "\n",
        "# Agrupar por día y tipo\n",
        "daily_consumption = data.groupby(['Day_Type', data['Datetime'].dt.date])['Global_active_power'].mean().reset_index()\n",
        "\n",
        "# Separar grupos\n",
        "weekday_consumption = daily_consumption[daily_consumption['Day_Type'] == 'Weekday']['Global_active_power']\n",
        "weekend_consumption = daily_consumption[daily_consumption['Day_Type'] == 'Weekend']['Global_active_power']\n",
        "\n",
        "# Visualización\n",
        "plt.figure(figsize=(8, 5))\n",
        "sns.boxplot(x='Day_Type', y='Global_active_power', data=daily_consumption, hue='Day_Type', palette='pastel', dodge=False)\n",
        "plt.title('Consumo Promedio de Potencia Activa: Días de Semana vs Fines de Semana')\n",
        "plt.ylabel('Consumo (kilovatios)')\n",
        "plt.legend([],[], frameon=False)  # Quitar leyenda redundante\n",
        "plt.savefig(\"consumo_energia_boxplot.pdf\")\n",
        "plt.show()\n",
        "\n",
        "# Prueba de normalidad\n",
        "stat_wk, p_wk = stats.shapiro(weekday_consumption)\n",
        "stat_we, p_we = stats.shapiro(weekend_consumption)\n",
        "\n",
        "# Prueba de hipótesis\n",
        "if p_wk > 0.05 and p_we > 0.05:\n",
        "    # Prueba t para muestras independientes\n",
        "    stat, p_value = stats.ttest_ind(weekday_consumption, weekend_consumption)\n",
        "    test_type = 't-test'\n",
        "else:\n",
        "    # Prueba de Mann-Whitney U\n",
        "    stat, p_value = stats.mannwhitneyu(weekday_consumption, weekend_consumption)\n",
        "    test_type = 'Mann-Whitney U'\n",
        "\n",
        "print(f\"{test_type}: estadístico = {stat:.4f}, p-valor = {p_value:.4f}\")\n",
        "\n",
        "# Intervalo de confianza\n",
        "diff_mean = weekday_consumption.mean() - weekend_consumption.mean()\n",
        "conf_int = stats.t.interval(0.95, len(daily_consumption)-1, loc=diff_mean, scale=stats.sem(daily_consumption['Global_active_power']))\n",
        "\n",
        "print(f\"Diferencia de medias: {diff_mean:.4f} kW\")\n",
        "print(f\"Intervalo de confianza del 95%: ({conf_int[0]:.4f}, {conf_int[1]:.4f}) kW\")"
      ],
      "metadata": {
        "colab": {
          "base_uri": "https://localhost:8080/"
        },
        "id": "rsm-fEmayg3i",
        "outputId": "bbed181c-d9d4-4b24-a8d4-e7b965cade4f"
      },
      "execution_count": null,
      "outputs": [
        {
          "output_type": "display_data",
          "data": {
            "text/plain": [
              "<Figure size 800x500 with 1 Axes>"
            ],
            "image/png": "[encoded data removed]"
          },
          "metadata": {}
        },
        {
          "output_type": "stream",
          "name": "stdout",
          "text": [
            "Mann-Whitney U: estadístico = 158113.0000, p-valor = 0.0000\n",
            "Diferencia de medias: -0.1944 kW\n",
            "Intervalo de confianza del 95%: (-0.2162, -0.1727) kW\n"
          ]
        }
      ]
    },
    {
      "cell_type": "markdown",
      "source": [
        "✅ **Conclusión**\n",
        "\n",
        "✔️ En promedio, el consumo de energía activa es significativamente menor durante los fines de semana que en los días de semana (p < 0.0001). La diferencia promedio es de aproximadamente 0.19 kW menos en fines de semana, con un intervalo de confianza del 95% que va desde -0.22 kW hasta -0.17 kW, indicando que esta disminución es estadísticamente significativa.\n",
        "\n",
        "✔️ Este resultado sugiere un patrón claro de menor uso de energía en fines de semana comparado con días laborables.\n",
        "\n",
        "<br>\n",
        "<br>\n",
        "<br>\n",
        "<br>\n",
        "<br>"
      ],
      "metadata": {
        "id": "W0J-9YWdzG-7"
      }
    },
    {
      "cell_type": "markdown",
      "source": [
        "🛠️ **Ingeniería Mecánica: Análisis de Propiedades Mecánicas de Materiales**\n",
        "\n",
        "🗂️ Dataset\n",
        "\n",
        "Materials and their Mechanical Properties\n",
        "\n",
        "🔍 **Pregunta de Investigación**\n",
        "\n",
        "¿Es la resistencia a la tracción promedio del acero significativamente mayor que la del aluminio?\n",
        "\n",
        "🧪 **Hipótesis**\n",
        "\n",
        "📌 H₀: No hay diferencia en la resistencia a la tracción promedio entre acero y aluminio.\n",
        "\n",
        "📌 H₁: La resistencia a la tracción promedio del acero es mayor que la del aluminio."
      ],
      "metadata": {
        "id": "e-rS-w4PzLai"
      }
    },
    {
      "cell_type": "code",
      "source": [
        "# Cargar datos\n",
        "url = 'https://raw.githubusercontent.com/purushottamnawale/material-selection-using-machine-learning/refs/heads/main/Data.csv'\n",
        "data = pd.read_csv(url)\n",
        "\n",
        "# Filtrar materiales\n",
        "steel = data[data['Material'].str.contains('Steel', case=False)]\n",
        "aluminum = data[data['Material'].str.contains('Aluminum', case=False)]\n",
        "\n",
        "# Extraer resistencia a la tracción (columna 'Su')\n",
        "steel_strength = steel['Su'].dropna()\n",
        "aluminum_strength = aluminum['Su'].dropna()\n",
        "\n",
        "# Combinar en un DataFrame para el boxplot\n",
        "df_plot = pd.DataFrame({\n",
        "    'Resistencia': pd.concat([steel_strength, aluminum_strength], ignore_index=True),\n",
        "    'Material': ['Acero'] * len(steel_strength) + ['Aluminio'] * len(aluminum_strength)\n",
        "})\n",
        "\n",
        "# Visualización\n",
        "plt.figure(figsize=(8, 5))\n",
        "sns.boxplot(data=df_plot, x='Material', y='Resistencia', hue='Material', palette='pastel', dodge=False, legend=False)\n",
        "plt.title('Resistencia Última (Su) (MPa): Acero vs Aluminio')\n",
        "plt.ylabel('Resistencia (MPa)')\n",
        "plt.xlabel('')\n",
        "plt.savefig(\"resistencia_traccion_boxplot.pdf\")\n",
        "plt.show()\n",
        "\n",
        "# Prueba de normalidad\n",
        "stat_steel, p_steel = stats.shapiro(steel_strength)\n",
        "stat_aluminum, p_aluminum = stats.shapiro(aluminum_strength)\n",
        "\n",
        "# Prueba de hipótesis\n",
        "if p_steel > 0.05 and p_aluminum > 0.05:\n",
        "    stat, p_value = stats.ttest_ind(steel_strength, aluminum_strength, alternative='greater')\n",
        "    test_type = 't-test'\n",
        "else:\n",
        "    stat, p_value = stats.mannwhitneyu(steel_strength, aluminum_strength, alternative='greater')\n",
        "    test_type = 'Mann-Whitney U'\n",
        "\n",
        "print(f\"{test_type}: estadístico = {stat:.4f}, p-valor = {p_value:.4f}\")\n",
        "\n",
        "# Intervalo de confianza para la diferencia de medias\n",
        "diff_mean = steel_strength.mean() - aluminum_strength.mean()\n",
        "conf_int = stats.t.interval(0.95, len(steel_strength)-1, loc=diff_mean, scale=stats.sem(steel_strength))\n",
        "\n",
        "print(f\"Diferencia de medias: {diff_mean:.4f} MPa\")\n",
        "print(f\"Intervalo de confianza del 95%: ({conf_int[0]:.4f}, {conf_int[1]:.4f}) MPa\")"
      ],
      "metadata": {
        "colab": {
          "base_uri": "https://localhost:8080/"
        },
        "id": "jvDhMS81zTl9",
        "outputId": "09b8ca9b-1f59-4e17-eb9e-6167e6e3b367"
      },
      "execution_count": null,
      "outputs": [
        {
          "output_type": "display_data",
          "data": {
            "text/plain": [
              "<Figure size 800x500 with 1 Axes>"
            ],
            "image/png": "[encoded data removed]"
          },
          "metadata": {}
        },
        {
          "output_type": "stream",
          "name": "stdout",
          "text": [
            "Mann-Whitney U: estadístico = 109717.0000, p-valor = 0.0000\n",
            "Diferencia de medias: 506.2693 MPa\n",
            "Intervalo de confianza del 95%: (473.7235, 538.8150) MPa\n"
          ]
        }
      ]
    },
    {
      "cell_type": "markdown",
      "source": [
        "✅ **Conclusión**\n",
        "\n",
        "✔️ Se observa una diferencia significativa en la resistencia a la tracción entre los materiales analizados. La prueba de Mann-Whitney U arrojó un estadístico de 109,717.0000 con un p-valor < 0.0001, lo que indica que el acero presenta, en promedio, una mayor resistencia última (Su) que el aluminio. La diferencia media entre ambos materiales es de aproximadamente 506.27 MPa, con un intervalo de confianza del 95% de [473.72, 538.82] MPa.\n",
        "\n",
        "✔️ Este resultado sugiere que, desde el punto de vista mecánico, el acero ofrece una resistencia significativamente superior a la tracción en comparación con el aluminio."
      ],
      "metadata": {
        "id": "wi20s7Wzzbd_"
      }
    }
  ]
}