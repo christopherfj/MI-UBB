{
  "nbformat": 4,
  "nbformat_minor": 0,
  "metadata": {
    "colab": {
      "provenance": [],
      "authorship_tag": "ABX9TyMc2G4NYQYfpugxeLDibp0/"
    },
    "kernelspec": {
      "name": "python3",
      "display_name": "Python 3"
    },
    "language_info": {
      "name": "python"
    }
  },
  "cells": [
    {
      "cell_type": "markdown",
      "source": [
        "Cargar las bibliotecas necesarias en Python.\n",
        "\n"
      ],
      "metadata": {
        "id": "EK9xmVCRSz38"
      }
    },
    {
      "cell_type": "code",
      "execution_count": null,
      "metadata": {
        "id": "W8mLjE9mJcxF"
      },
      "outputs": [],
      "source": [
        "import pandas as pd\n",
        "import numpy as np\n",
        "import matplotlib.pyplot as plt\n",
        "import seaborn as sns\n",
        "from scipy import stats\n",
        "import statsmodels.api as sm\n",
        "from scipy.stats import ttest_rel\n",
        "import numpy as np"
      ]
    },
    {
      "cell_type": "markdown",
      "source": [
        "Cargar el conjunto de datos desde un enlace web."
      ],
      "metadata": {
        "id": "fiq7sJJwS8BZ"
      }
    },
    {
      "cell_type": "markdown",
      "source": [
        "⚡ **Ingeniería Eléctrica: Análisis de Consumo Energético en Hogares**\n",
        "\n",
        "🗂️ **Dataset**\n",
        "\n",
        "Household Electric Power Consumption\n",
        "\n",
        "🔍 **Pregunta de Investigación**\n",
        "\n",
        "¿Existe una diferencia significativa en la potencia activa entre los días de semana y los fines de semana en los hogares?\n",
        "\n",
        "🧪 **Hipótesis**\n",
        "\n",
        "📌 H₀: No hay diferencia en el consumo promedio de energía activa entre días de semana y fines de semana.\n",
        "\n",
        "📌 H₁: Hay una diferencia significativa en el consumo promedio de energía activa entre días de semana y fines de semana."
      ],
      "metadata": {
        "id": "ZMyjyEsyBzFA"
      }
    },
    {
      "cell_type": "code",
      "source": [
        "# Cargar datos sin parsear fecha y hora juntas\n",
        "url = 'https://media.githubusercontent.com/media/dmkn96/Power_consumption/refs/heads/main/Dataset/household_power_consumption.txt'\n",
        "data = pd.read_csv(url, sep=';', na_values='?', low_memory=False)\n",
        "\n",
        "# Combinar columnas Date y Time en Datetime, especificando dayfirst=True\n",
        "data['Datetime'] = pd.to_datetime(data['Date'] + ' ' + data['Time'], dayfirst=True)\n",
        "\n",
        "# Seleccionar columnas relevantes y limpiar\n",
        "data = data[['Datetime', 'Global_active_power']].dropna()\n",
        "data['Global_active_power'] = data['Global_active_power'].astype(float)\n",
        "\n",
        "# Crear variables para día de la semana y tipo de día\n",
        "data['Day'] = data['Datetime'].dt.day_name()\n",
        "data['Weekday'] = data['Datetime'].dt.weekday\n",
        "data['Day_Type'] = data['Weekday'].apply(lambda x: 'Weekend' if x >= 5 else 'Weekday')\n",
        "\n",
        "# Agrupar por día y tipo\n",
        "daily_consumption = data.groupby(['Day_Type', data['Datetime'].dt.date])['Global_active_power'].mean().reset_index()\n",
        "\n",
        "# Separar grupos\n",
        "weekday_consumption = daily_consumption[daily_consumption['Day_Type'] == 'Weekday']['Global_active_power']\n",
        "weekend_consumption = daily_consumption[daily_consumption['Day_Type'] == 'Weekend']['Global_active_power']\n",
        "\n",
        "# Visualización\n",
        "\n",
        "# Prueba de normalidad\n",
        "\n",
        "# Prueba de hipótesis\n"
      ],
      "metadata": {
        "id": "rsm-fEmayg3i"
      },
      "execution_count": null,
      "outputs": []
    },
    {
      "cell_type": "markdown",
      "source": [
        "✅ **Conclusión**\n",
        "\n",
        "✔️ En promedio, ...\n",
        "\n",
        "✔️ Este resultado sugiere ..."
      ],
      "metadata": {
        "id": "W0J-9YWdzG-7"
      }
    }
  ]
}