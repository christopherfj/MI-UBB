{
  "nbformat": 4,
  "nbformat_minor": 0,
  "metadata": {
    "colab": {
      "provenance": [],
      "authorship_tag": "ABX9TyNVTxL1mhICJio7vfweuSu3"
    },
    "kernelspec": {
      "name": "python3",
      "display_name": "Python 3"
    },
    "language_info": {
      "name": "python"
    }
  },
  "cells": [
    {
      "cell_type": "code",
      "execution_count": null,
      "metadata": {
        "id": "W8mLjE9mJcxF"
      },
      "outputs": [],
      "source": [
        "import pandas as pd\n",
        "import numpy as np\n",
        "import matplotlib.pyplot as plt\n",
        "import seaborn as sns\n",
        "from scipy import stats\n",
        "import statsmodels.api as sm\n",
        "from scipy.stats import ttest_rel\n",
        "import numpy as np"
      ]
    },
    {
      "cell_type": "markdown",
      "source": [
        "🛠️ **Ingeniería Mecánica: Análisis de Propiedades Mecánicas de Materiales**\n",
        "\n",
        "🗂️ Dataset\n",
        "\n",
        "Materials and their Mechanical Properties\n",
        "\n",
        "🔍 **Pregunta de Investigación**\n",
        "\n",
        "¿Es la resistencia a la tracción promedio del acero significativamente mayor que la del aluminio?\n",
        "\n",
        "🧪 **Hipótesis**\n",
        "\n",
        "📌 H₀: No hay diferencia en la resistencia a la tracción promedio entre acero y aluminio.\n",
        "\n",
        "📌 H₁: La resistencia a la tracción promedio del acero es mayor que la del aluminio."
      ],
      "metadata": {
        "id": "e-rS-w4PzLai"
      }
    },
    {
      "cell_type": "code",
      "source": [
        "# Cargar datos\n",
        "url = 'https://raw.githubusercontent.com/purushottamnawale/material-selection-using-machine-learning/refs/heads/main/Data.csv'\n",
        "data = pd.read_csv(url)\n",
        "\n",
        "# Filtrar materiales\n",
        "steel = data[data['Material'].str.contains('Steel', case=False)]\n",
        "aluminum = data[data['Material'].str.contains('Aluminum', case=False)]\n",
        "\n",
        "# Extraer resistencia a la tracción (columna 'Su')\n",
        "steel_strength = steel['Su'].dropna()\n",
        "aluminum_strength = aluminum['Su'].dropna()\n",
        "\n",
        "# Combinar en un DataFrame para el boxplot\n",
        "df_plot = pd.DataFrame({\n",
        "    'Resistencia': pd.concat([steel_strength, aluminum_strength], ignore_index=True),\n",
        "    'Material': ['Acero'] * len(steel_strength) + ['Aluminio'] * len(aluminum_strength)\n",
        "})\n",
        "\n",
        "# Visualización\n",
        "\n",
        "\n",
        "# Prueba de normalidad\n",
        "\n",
        "\n",
        "# Prueba de hipótesis\n"
      ],
      "metadata": {
        "id": "jvDhMS81zTl9"
      },
      "execution_count": null,
      "outputs": []
    },
    {
      "cell_type": "markdown",
      "source": [
        "✅ **Conclusión**\n",
        "\n",
        "✔️ Se observa una ...\n",
        "\n",
        "✔️ Este resultado sugiere ..."
      ],
      "metadata": {
        "id": "wi20s7Wzzbd_"
      }
    }
  ]
}